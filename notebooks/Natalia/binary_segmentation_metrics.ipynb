{
  "nbformat": 4,
  "nbformat_minor": 0,
  "metadata": {
    "colab": {
      "provenance": [],
      "collapsed_sections": [],
      "authorship_tag": "ABX9TyOocYcztirm/n97F4VjpzuE",
      "include_colab_link": true
    },
    "kernelspec": {
      "name": "python3",
      "display_name": "Python 3"
    },
    "language_info": {
      "name": "python"
    }
  },
  "cells": [
    {
      "cell_type": "markdown",
      "metadata": {
        "id": "view-in-github",
        "colab_type": "text"
      },
      "source": [
        "<a href=\"https://colab.research.google.com/github/natiska/ai4trees-height/blob/main/notebooks/Natalia/binary_segmentation_metrics.ipynb\" target=\"_parent\"><img src=\"https://colab.research.google.com/assets/colab-badge.svg\" alt=\"Open In Colab\"/></a>"
      ]
    },
    {
      "cell_type": "code",
      "execution_count": null,
      "metadata": {
        "id": "zqnl0-lEJZ5L"
      },
      "outputs": [],
      "source": [
        "import numpy as np\n",
        "import torch"
      ]
    },
    {
      "cell_type": "code",
      "source": [
        "a = torch.Tensor([[1., 0., 1.],\n",
        "              [0., 1., 0.],\n",
        "              [0., 0., 1.]])"
      ],
      "metadata": {
        "id": "BCm4Q6yuJc5-"
      },
      "execution_count": 32,
      "outputs": []
    },
    {
      "cell_type": "code",
      "source": [
        "b = torch.Tensor([[0., 0., 0.],\n",
        "              [1., 1., 0.],\n",
        "              [0., 0., 1.]])\n",
        "b"
      ],
      "metadata": {
        "colab": {
          "base_uri": "https://localhost:8080/"
        },
        "id": "vgUhJWQVKyKZ",
        "outputId": "c95ec0c0-0b04-4147-b94e-8965deed1ab9"
      },
      "execution_count": 33,
      "outputs": [
        {
          "output_type": "execute_result",
          "data": {
            "text/plain": [
              "tensor([[0., 0., 0.],\n",
              "        [1., 1., 0.],\n",
              "        [0., 0., 1.]])"
            ]
          },
          "metadata": {},
          "execution_count": 33
        }
      ]
    },
    {
      "cell_type": "code",
      "source": [
        "(a == b)"
      ],
      "metadata": {
        "colab": {
          "base_uri": "https://localhost:8080/"
        },
        "id": "IsBybexQPKqk",
        "outputId": "56ac377c-46e3-4370-dff9-2ca1ff2e7a0a"
      },
      "execution_count": null,
      "outputs": [
        {
          "output_type": "execute_result",
          "data": {
            "text/plain": [
              "tensor([[False,  True, False],\n",
              "        [False,  True,  True],\n",
              "        [ True,  True,  True]])"
            ]
          },
          "metadata": {},
          "execution_count": 8
        }
      ]
    },
    {
      "cell_type": "code",
      "source": [
        "a.size()[0]*a.size()[1]"
      ],
      "metadata": {
        "colab": {
          "base_uri": "https://localhost:8080/"
        },
        "id": "nPw42XRLP7yZ",
        "outputId": "0ad6a848-a32b-4c94-df25-1879d8f9ed26"
      },
      "execution_count": 17,
      "outputs": [
        {
          "output_type": "execute_result",
          "data": {
            "text/plain": [
              "9"
            ]
          },
          "metadata": {},
          "execution_count": 17
        }
      ]
    },
    {
      "cell_type": "code",
      "source": [
        "float((a == b).sum())/int(a.size()[0]*a.size()[1])"
      ],
      "metadata": {
        "colab": {
          "base_uri": "https://localhost:8080/"
        },
        "id": "2iqAxm55K3CX",
        "outputId": "9b9acc00-41ea-4f10-f1c8-35c0a0225ec9"
      },
      "execution_count": 19,
      "outputs": [
        {
          "output_type": "execute_result",
          "data": {
            "text/plain": [
              "0.6666666666666666"
            ]
          },
          "metadata": {},
          "execution_count": 19
        }
      ]
    },
    {
      "cell_type": "code",
      "source": [
        "def compute_accuracy(prediction, ground_truth):\n",
        "    assert prediction.shape == ground_truth.shape\n",
        "    dims = list(prediction.shape)\n",
        "    size = 1\n",
        "    for dim in dims:\n",
        "      size *= dim\n",
        "    accuracy = np.round(float((prediction == ground_truth).sum())/size, 2)*100\n",
        "    return accuracy"
      ],
      "metadata": {
        "id": "yb6Sl1trQ5QW"
      },
      "execution_count": 36,
      "outputs": []
    },
    {
      "cell_type": "code",
      "source": [
        "compute_accuracy(b, a)"
      ],
      "metadata": {
        "colab": {
          "base_uri": "https://localhost:8080/"
        },
        "id": "wpOzY3mKQ8zQ",
        "outputId": "cc49c69c-71b7-4751-97be-1d7eefa4e1d2"
      },
      "execution_count": 37,
      "outputs": [
        {
          "output_type": "stream",
          "name": "stdout",
          "text": [
            "9\n"
          ]
        },
        {
          "output_type": "execute_result",
          "data": {
            "text/plain": [
              "67.0"
            ]
          },
          "metadata": {},
          "execution_count": 37
        }
      ]
    },
    {
      "cell_type": "code",
      "source": [
        "7/9.0"
      ],
      "metadata": {
        "colab": {
          "base_uri": "https://localhost:8080/"
        },
        "id": "a1hO6RxCK5a2",
        "outputId": "0cd30d25-48ca-4b71-f4fa-a19fab0fc04a"
      },
      "execution_count": null,
      "outputs": [
        {
          "output_type": "execute_result",
          "data": {
            "text/plain": [
              "0.7777777777777778"
            ]
          },
          "metadata": {},
          "execution_count": 24
        }
      ]
    },
    {
      "cell_type": "code",
      "source": [
        "TP = (a == b)[a==1].sum()\n",
        "TP"
      ],
      "metadata": {
        "colab": {
          "base_uri": "https://localhost:8080/"
        },
        "id": "VIvGJk9iLBzN",
        "outputId": "63167631-698d-47cd-ded2-77dabc0abd48"
      },
      "execution_count": 41,
      "outputs": [
        {
          "output_type": "execute_result",
          "data": {
            "text/plain": [
              "tensor(2)"
            ]
          },
          "metadata": {},
          "execution_count": 41
        }
      ]
    },
    {
      "cell_type": "code",
      "source": [
        "TN = (a == b)[a==0].sum()\n",
        "TN"
      ],
      "metadata": {
        "colab": {
          "base_uri": "https://localhost:8080/"
        },
        "id": "dSBq0H7bOGX4",
        "outputId": "638703ab-7d35-4eea-a366-aeef91a9e22b"
      },
      "execution_count": 42,
      "outputs": [
        {
          "output_type": "execute_result",
          "data": {
            "text/plain": [
              "tensor(4)"
            ]
          },
          "metadata": {},
          "execution_count": 42
        }
      ]
    },
    {
      "cell_type": "code",
      "source": [
        "FP = (a != b)[a==0].sum()\n",
        "FP"
      ],
      "metadata": {
        "colab": {
          "base_uri": "https://localhost:8080/"
        },
        "id": "ghLMaxzUR2mz",
        "outputId": "2b0f06d1-262c-453b-92c1-cefce13b2d5e"
      },
      "execution_count": 43,
      "outputs": [
        {
          "output_type": "execute_result",
          "data": {
            "text/plain": [
              "tensor(1)"
            ]
          },
          "metadata": {},
          "execution_count": 43
        }
      ]
    },
    {
      "cell_type": "code",
      "source": [
        "FN = (a != b)[a==1].sum()\n",
        "FN"
      ],
      "metadata": {
        "colab": {
          "base_uri": "https://localhost:8080/"
        },
        "id": "xI1DCOJ3R_aK",
        "outputId": "3384eb72-0b70-431f-9afd-2661867fae16"
      },
      "execution_count": 44,
      "outputs": [
        {
          "output_type": "execute_result",
          "data": {
            "text/plain": [
              "tensor(2)"
            ]
          },
          "metadata": {},
          "execution_count": 44
        }
      ]
    },
    {
      "cell_type": "code",
      "source": [
        "float(TP)/(TP+FP)"
      ],
      "metadata": {
        "colab": {
          "base_uri": "https://localhost:8080/"
        },
        "id": "NEIuhKW5Tv33",
        "outputId": "b9c2bafd-4e7c-4036-a5ab-0539867b0e9f"
      },
      "execution_count": 45,
      "outputs": [
        {
          "output_type": "execute_result",
          "data": {
            "text/plain": [
              "tensor(0.6667)"
            ]
          },
          "metadata": {},
          "execution_count": 45
        }
      ]
    },
    {
      "cell_type": "code",
      "source": [
        "float(TP)/(TP+FN)"
      ],
      "metadata": {
        "colab": {
          "base_uri": "https://localhost:8080/"
        },
        "id": "2MkhrIWGT0tp",
        "outputId": "2891f357-2931-4604-fdcd-01efa510d1fc"
      },
      "execution_count": 46,
      "outputs": [
        {
          "output_type": "execute_result",
          "data": {
            "text/plain": [
              "tensor(0.5000)"
            ]
          },
          "metadata": {},
          "execution_count": 46
        }
      ]
    },
    {
      "cell_type": "code",
      "source": [
        "def compute_precision_recall_fscore(prediction, ground_truth):\n",
        "  TP = int((ground_truth == prediction)[ground_truth==1].sum())\n",
        "  TN = int((ground_truth == prediction)[ground_truth==0].sum())\n",
        "  FP = int((ground_truth != prediction)[ground_truth==0].sum())\n",
        "  FN = int((ground_truth == prediction)[ground_truth==1].sum())\n",
        "  precision = float(TP)/(TP+FP)\n",
        "  recall = float(TP)/(TP+FN)\n",
        "  fscore = (2 * precision * recall)/(precision + recall)\n",
        "  return precision, recall, fscore"
      ],
      "metadata": {
        "id": "263wO-jVSFlg"
      },
      "execution_count": 47,
      "outputs": []
    },
    {
      "cell_type": "code",
      "source": [
        "compute_precision_recall_fscore(b, a)"
      ],
      "metadata": {
        "colab": {
          "base_uri": "https://localhost:8080/"
        },
        "id": "QsYbcL9STh07",
        "outputId": "7388e1f1-538b-422e-bda1-db405ddaa9bc"
      },
      "execution_count": 48,
      "outputs": [
        {
          "output_type": "execute_result",
          "data": {
            "text/plain": [
              "(0.6666666666666666, 0.5, 0.5714285714285715)"
            ]
          },
          "metadata": {},
          "execution_count": 48
        }
      ]
    },
    {
      "cell_type": "code",
      "source": [
        "gt = torch.Tensor([[[1., 0., 1.],\n",
        "              [0., 1., 0.],\n",
        "              [0., 0., 1.]],\n",
        "              [[1., 0., 1.],\n",
        "              [0., 1., 0.],\n",
        "              [0., 0., 1.]]])\n",
        "preds = torch.Tensor([[[0., 0., 0.],\n",
        "              [1., 1., 0.],\n",
        "              [0., 0., 1.]],\n",
        "              [[0., 0., 0.],\n",
        "              [1., 1., 0.],\n",
        "              [0., 0., 1.]]])"
      ],
      "metadata": {
        "id": "JQQKZXA1TkjA"
      },
      "execution_count": 39,
      "outputs": []
    },
    {
      "cell_type": "code",
      "source": [
        "compute_accuracy(preds, gt)"
      ],
      "metadata": {
        "id": "sWdnJQeqYBOj",
        "colab": {
          "base_uri": "https://localhost:8080/"
        },
        "outputId": "181656d0-9b69-41b9-94fc-0a5fb54b78d8"
      },
      "execution_count": 40,
      "outputs": [
        {
          "output_type": "stream",
          "name": "stdout",
          "text": [
            "18\n"
          ]
        },
        {
          "output_type": "execute_result",
          "data": {
            "text/plain": [
              "67.0"
            ]
          },
          "metadata": {},
          "execution_count": 40
        }
      ]
    },
    {
      "cell_type": "code",
      "source": [
        "compute_precision_recall_fscore(preds, gt)"
      ],
      "metadata": {
        "colab": {
          "base_uri": "https://localhost:8080/"
        },
        "id": "8JxD-wB2X7eJ",
        "outputId": "9a395a6f-9a6f-4c35-e4c4-03eb65b562f1"
      },
      "execution_count": 49,
      "outputs": [
        {
          "output_type": "execute_result",
          "data": {
            "text/plain": [
              "(0.6666666666666666, 0.5, 0.5714285714285715)"
            ]
          },
          "metadata": {},
          "execution_count": 49
        }
      ]
    },
    {
      "cell_type": "code",
      "source": [],
      "metadata": {
        "id": "OIGdgDLOSNQy"
      },
      "execution_count": null,
      "outputs": []
    }
  ]
}