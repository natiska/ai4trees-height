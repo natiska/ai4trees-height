{
  "nbformat": 4,
  "nbformat_minor": 0,
  "metadata": {
    "colab": {
      "name": "JDI_GC_plot_images_with_annotations.ipynb",
      "provenance": [],
      "collapsed_sections": []
    },
    "kernelspec": {
      "name": "python3",
      "display_name": "Python 3"
    },
    "language_info": {
      "name": "python"
    }
  },
  "cells": [
    {
      "cell_type": "markdown",
      "source": [
        "# Plotting example images from Justdiggit drone data published on Google Cloud along with their annotations"
      ],
      "metadata": {
        "id": "G2wFpgj4wUb6"
      }
    },
    {
      "cell_type": "markdown",
      "source": [
        "credits: Tim Broadhurst"
      ],
      "metadata": {
        "id": "7lXtnflhws1r"
      }
    },
    {
      "cell_type": "code",
      "execution_count": 1,
      "metadata": {
        "id": "5LV5BlHo36aS"
      },
      "outputs": [],
      "source": [
        "from google.colab import auth\n",
        "auth.authenticate_user()"
      ]
    },
    {
      "cell_type": "code",
      "source": [
        "!echo \"deb http://packages.cloud.google.com/apt gcsfuse-bionic main\" > /etc/apt/sources.list.d/gcsfuse.list\n",
        "!curl https://packages.cloud.google.com/apt/doc/apt-key.gpg | apt-key add -\n",
        "!apt -qq update\n",
        "!apt -qq install gcsfuse"
      ],
      "metadata": {
        "colab": {
          "base_uri": "https://localhost:8080/"
        },
        "id": "r13GeVzg38bC",
        "outputId": "65ce8a13-fc3e-4e50-cbc1-670b00a18cfd"
      },
      "execution_count": 2,
      "outputs": [
        {
          "output_type": "stream",
          "name": "stdout",
          "text": [
            "  % Total    % Received % Xferd  Average Speed   Time    Time     Time  Current\n",
            "                                 Dload  Upload   Total   Spent    Left  Speed\n",
            "\r  0     0    0     0    0     0      0      0 --:--:-- --:--:-- --:--:--     0\r100  2537  100  2537    0     0  90607      0 --:--:-- --:--:-- --:--:-- 90607\n",
            "OK\n",
            "29 packages can be upgraded. Run 'apt list --upgradable' to see them.\n",
            "The following package was automatically installed and is no longer required:\n",
            "  libnvidia-common-460\n",
            "Use 'apt autoremove' to remove it.\n",
            "The following NEW packages will be installed:\n",
            "  gcsfuse\n",
            "0 upgraded, 1 newly installed, 0 to remove and 29 not upgraded.\n",
            "Need to get 12.1 MB of archives.\n",
            "After this operation, 27.5 MB of additional disk space will be used.\n",
            "Selecting previously unselected package gcsfuse.\n",
            "(Reading database ... 155680 files and directories currently installed.)\n",
            "Preparing to unpack .../gcsfuse_0.41.5_amd64.deb ...\n",
            "Unpacking gcsfuse (0.41.5) ...\n",
            "Setting up gcsfuse (0.41.5) ...\n"
          ]
        }
      ]
    },
    {
      "cell_type": "code",
      "source": [
        "!mkdir -p justdiggit-drone-data\n",
        "!gcsfuse --implicit-dirs --limit-bytes-per-sec -1 --limit-ops-per-sec -1 justdiggit-drone justdiggit-drone-data"
      ],
      "metadata": {
        "colab": {
          "base_uri": "https://localhost:8080/"
        },
        "id": "vjlTLdqy4A2D",
        "outputId": "610bf41f-848c-4f85-9674-9733ca092d6b"
      },
      "execution_count": 3,
      "outputs": [
        {
          "output_type": "stream",
          "name": "stdout",
          "text": [
            "2022/08/11 02:06:42.546456 Start gcsfuse/0.41.5 (Go version go1.18.4) for app \"\" using mount point: /content/justdiggit-drone-data\n",
            "2022/08/11 02:06:42.562292 Opening GCS connection...\n",
            "2022/08/11 02:06:44.938503 Mounting file system \"justdiggit-drone\"...\n",
            "2022/08/11 02:06:44.970034 File system has been successfully mounted.\n"
          ]
        }
      ]
    },
    {
      "cell_type": "code",
      "source": [
        "DATA_path = \"/content/justdiggit-drone-data/label_sample\""
      ],
      "metadata": {
        "id": "Cj3Zx-Z74pKu"
      },
      "execution_count": 7,
      "outputs": []
    },
    {
      "cell_type": "code",
      "source": [
        "import json"
      ],
      "metadata": {
        "id": "8zc2FMdd_hy_"
      },
      "execution_count": 8,
      "outputs": []
    },
    {
      "cell_type": "code",
      "source": [
        "f = open(DATA_path +'/Annotations_trees_only.json')\n",
        "\n",
        "data = json.load(f)"
      ],
      "metadata": {
        "id": "HqbwiSZt_kkJ"
      },
      "execution_count": 9,
      "outputs": []
    },
    {
      "cell_type": "code",
      "source": [
        "print(data.keys())"
      ],
      "metadata": {
        "colab": {
          "base_uri": "https://localhost:8080/"
        },
        "id": "04ThnfuR_oTd",
        "outputId": "f25c29d3-394e-4cc0-ce9d-66de9eb5108f"
      },
      "execution_count": 10,
      "outputs": [
        {
          "output_type": "stream",
          "name": "stdout",
          "text": [
            "dict_keys(['info', 'licenses', 'images', 'annotations', 'categories'])\n"
          ]
        }
      ]
    },
    {
      "cell_type": "markdown",
      "source": [
        ""
      ],
      "metadata": {
        "id": "TtrkOGQ6ARkj"
      }
    },
    {
      "cell_type": "code",
      "source": [
        "print(data['annotations'][1])"
      ],
      "metadata": {
        "colab": {
          "base_uri": "https://localhost:8080/"
        },
        "id": "TAMloQ5v_ofq",
        "outputId": "d39e3de7-b799-4624-9811-4c23b0310d93"
      },
      "execution_count": 11,
      "outputs": [
        {
          "output_type": "stream",
          "name": "stdout",
          "text": [
            "{'id': 2, 'image_id': 1, 'segmentation': [[275, 323, 274, 324, 273, 324, 272, 324, 271, 324, 271, 325, 272, 326, 272, 327, 271, 328, 271, 329, 271, 330, 272, 331, 271, 332, 270, 332, 269, 332, 268, 332, 267, 332, 266, 333, 266, 334, 265, 335, 264, 336, 263, 336, 262, 335, 261, 335, 260, 336, 259, 337, 258, 338, 258, 339, 257, 340, 256, 340, 255, 340, 254, 340, 253, 340, 252, 340, 251, 341, 250, 341, 249, 342, 248, 343, 247, 344, 246, 345, 245, 346, 244, 347, 243, 348, 242, 349, 241, 350, 240, 350, 239, 350, 239, 351, 239, 352, 238, 353, 237, 353, 236, 353, 235, 354, 234, 355, 233, 356, 232, 356, 231, 357, 230, 358, 229, 358, 228, 358, 227, 358, 226, 358, 225, 358, 224, 358, 223, 359, 222, 359, 221, 360, 220, 360, 219, 360, 218, 361, 217, 361, 216, 361, 215, 362, 214, 362, 213, 363, 213, 364, 213, 365, 213, 366, 213, 367, 213, 368, 213, 369, 213, 370, 213, 371, 213, 372, 213, 373, 213, 374, 213, 375, 212, 376, 211, 377, 210, 378, 209, 378, 208, 379, 207, 380, 206, 380, 205, 380, 204, 380, 203, 380, 202, 380, 201, 380, 200, 380, 199, 380, 198, 380, 197, 380, 196, 380, 195, 381, 194, 382, 194, 383, 194, 384, 194, 385, 193, 386, 192, 387, 191, 387, 191, 388, 190, 389, 189, 389, 189, 390, 188, 391, 187, 391, 187, 392, 186, 393, 185, 393, 184, 393, 183, 394, 183, 395, 183, 396, 183, 397, 182, 398, 181, 398, 180, 399, 179, 399, 179, 400, 179, 401, 179, 402, 179, 403, 179, 404, 179, 405, 179, 406, 179, 407, 179, 408, 179, 409, 179, 410, 180, 410, 181, 411, 181, 412, 181, 413, 182, 414, 182, 415, 183, 416, 183, 417, 184, 417, 185, 418, 186, 419, 186, 420, 186, 421, 187, 421, 188, 422, 189, 422, 190, 423, 191, 424, 191, 425, 191, 426, 192, 427, 193, 428, 194, 429, 194, 430, 195, 431, 196, 432, 196, 433, 197, 434, 197, 435, 197, 436, 198, 437, 199, 437, 200, 437, 201, 438, 202, 439, 203, 440, 204, 441, 204, 442, 203, 443, 203, 444, 204, 445, 204, 446, 205, 447, 206, 448, 207, 449, 207, 450, 207, 451, 207, 452, 207, 453, 207, 454, 207, 455, 207, 456, 207, 455, 207, 454, 208, 453, 209, 452, 210, 452, 211, 452, 212, 451, 213, 450, 214, 450, 215, 450, 216, 450, 217, 450, 218, 450, 219, 449, 220, 450, 221, 450, 222, 451, 222, 452, 222, 453, 222, 454, 222, 455, 222, 456, 223, 457, 223, 458, 223, 459, 224, 460, 224, 461, 223, 462, 222, 462, 221, 463, 221, 464, 221, 465, 220, 466, 219, 467, 219, 468, 218, 469, 218, 470, 217, 471, 217, 472, 217, 473, 217, 474, 218, 474, 219, 475, 219, 476, 219, 477, 219, 478, 220, 478, 221, 477, 222, 477, 222, 476, 223, 475, 224, 474, 225, 473, 226, 473, 227, 472, 228, 472, 229, 473, 229, 474, 229, 475, 229, 476, 229, 477, 229, 478, 229, 479, 229, 480, 229, 481, 229, 482, 229, 483, 229, 484, 229, 485, 229, 486, 229, 487, 229, 488, 228, 489, 228, 490, 228, 491, 228, 492, 227, 493, 226, 494, 225, 495, 225, 496, 224, 497, 223, 498, 222, 498, 221, 499, 221, 500, 221, 501, 221, 502, 222, 502, 223, 501, 224, 500, 225, 499, 226, 499, 227, 499, 228, 499, 229, 499, 230, 499, 231, 499, 232, 500, 232, 501, 232, 502, 233, 503, 233, 504, 233, 505, 233, 506, 233, 507, 233, 508, 233, 509, 233, 510, 234, 510, 235, 511, 235, 512, 235, 513, 235, 514, 235, 515, 236, 516, 236, 517, 236, 518, 236, 519, 237, 520, 238, 521, 239, 521, 240, 521, 241, 521, 242, 521, 243, 521, 244, 521, 245, 521, 246, 521, 247, 521, 248, 521, 249, 521, 250, 521, 251, 521, 252, 520, 252, 519, 251, 518, 250, 517, 250, 516, 250, 515, 250, 514, 250, 513, 250, 512, 250, 511, 250, 510, 250, 509, 250, 508, 250, 507, 250, 506, 251, 505, 252, 505, 253, 506, 254, 507, 255, 507, 256, 508, 257, 509, 257, 510, 257, 511, 257, 512, 257, 513, 258, 514, 259, 515, 258, 516, 258, 517, 257, 518, 258, 519, 259, 520, 259, 521, 259, 522, 260, 522, 261, 522, 262, 522, 263, 523, 264, 523, 265, 523, 266, 523, 267, 523, 268, 523, 269, 523, 270, 523, 271, 523, 272, 523, 273, 523, 274, 523, 275, 523, 276, 522, 277, 522, 278, 521, 279, 520, 280, 520, 281, 521, 281, 520, 282, 519, 282, 518, 282, 517, 283, 516, 284, 515, 285, 515, 286, 514, 287, 514, 288, 513, 289, 514, 290, 514, 291, 515, 292, 515, 293, 515, 294, 515, 295, 515, 296, 515, 297, 516, 298, 516, 299, 516, 299, 515, 299, 514, 299, 513, 299, 512, 299, 511, 300, 510, 301, 509, 302, 509, 303, 509, 304, 509, 305, 510, 306, 509, 307, 509, 308, 509, 309, 508, 310, 507, 311, 506, 312, 507, 313, 508, 313, 509, 313, 510, 314, 511, 315, 510, 316, 510, 317, 510, 317, 509, 318, 508, 318, 507, 317, 506, 318, 505, 319, 504, 320, 503, 320, 502, 321, 501, 322, 502, 323, 501, 324, 500, 325, 500, 325, 499, 326, 498, 327, 497, 327, 496, 328, 495, 328, 494, 329, 493, 329, 492, 330, 491, 330, 490, 330, 489, 331, 488, 332, 488, 332, 487, 333, 486, 333, 485, 334, 484, 335, 484, 336, 484, 336, 483, 337, 482, 337, 481, 337, 480, 338, 479, 339, 478, 339, 477, 339, 476, 338, 475, 338, 474, 338, 473, 338, 472, 339, 471, 340, 471, 341, 470, 341, 469, 341, 468, 341, 467, 340, 466, 341, 465, 342, 464, 343, 463, 343, 462, 344, 461, 345, 460, 346, 459, 347, 459, 348, 459, 349, 458, 348, 457, 348, 456, 348, 455, 348, 454, 348, 453, 349, 452, 350, 451, 351, 450, 351, 449, 351, 448, 351, 447, 351, 446, 351, 445, 352, 444, 353, 443, 354, 442, 354, 441, 355, 440, 355, 439, 355, 438, 356, 437, 356, 436, 357, 435, 358, 435, 358, 434, 358, 433, 358, 432, 358, 431, 359, 430, 359, 429, 360, 428, 359, 427, 359, 426, 359, 425, 358, 424, 357, 423, 356, 422, 355, 421, 355, 420, 355, 419, 355, 418, 355, 417, 355, 416, 355, 415, 355, 414, 355, 413, 355, 412, 355, 411, 355, 410, 355, 409, 355, 408, 354, 407, 354, 406, 354, 405, 354, 404, 353, 403, 353, 402, 354, 401, 353, 400, 352, 399, 351, 398, 350, 398, 349, 397, 348, 397, 347, 397, 346, 396, 347, 395, 348, 395, 348, 394, 348, 393, 347, 393, 346, 393, 345, 392, 344, 391, 344, 390, 344, 389, 344, 388, 343, 388, 342, 387, 342, 386, 342, 385, 341, 385, 340, 384, 339, 384, 338, 384, 337, 384, 336, 384, 335, 383, 334, 382, 334, 381, 333, 380, 333, 379, 333, 378, 332, 378, 331, 377, 331, 376, 330, 376, 329, 377, 328, 377, 327, 377, 326, 376, 325, 375, 325, 374, 324, 373, 324, 372, 324, 371, 324, 370, 323, 369, 322, 369, 321, 368, 321, 367, 320, 366, 319, 365, 318, 364, 318, 363, 318, 362, 318, 361, 318, 360, 317, 359, 316, 359, 315, 358, 314, 358, 313, 358, 312, 357, 311, 357, 310, 356, 309, 356, 308, 355, 307, 355, 306, 355, 305, 355, 304, 355, 303, 355, 302, 355, 301, 354, 300, 354, 299, 354, 298, 353, 297, 352, 297, 351, 297, 350, 296, 349, 295, 349, 294, 349, 293, 349, 292, 349, 291, 349, 290, 349, 289, 348, 288, 347, 288, 346, 288, 345, 288, 344, 288, 343, 288, 342, 288, 341, 288, 340, 287, 340, 286, 339, 285, 338, 285, 337, 285, 336, 285, 335, 284, 336, 283, 336, 282, 336, 281, 335, 281, 334, 282, 333, 282, 332, 282, 331, 281, 331, 280, 331, 279, 331, 278, 330, 278, 329, 277, 329, 276, 328, 276, 327, 277, 326, 278, 325, 278, 324, 277, 323, 276, 323]], 'iscrowd': 0, 'bbox': [179.0, 323.0, 182.0, 201.0], 'area': 22320, 'category_id': 1}\n"
          ]
        }
      ]
    },
    {
      "cell_type": "code",
      "source": [
        "print(data['images'][0])"
      ],
      "metadata": {
        "colab": {
          "base_uri": "https://localhost:8080/"
        },
        "id": "uev6jCqdASud",
        "outputId": "f5f34e87-2258-4fa3-fe6d-0935ec06886f"
      },
      "execution_count": 12,
      "outputs": [
        {
          "output_type": "stream",
          "name": "stdout",
          "text": [
            "{'id': 1, 'file_name': 'bumila_year_2018_tile_6000_12000.png', 'height': 1000, 'width': 1000, 'license': 1}\n"
          ]
        }
      ]
    },
    {
      "cell_type": "code",
      "source": [
        "images = list((x['file_name'],x['id']) for x in data['images'])\n",
        "print(images[:3])"
      ],
      "metadata": {
        "colab": {
          "base_uri": "https://localhost:8080/"
        },
        "id": "lfzoDLcJJ7Ec",
        "outputId": "f9c3efe0-eb1a-4488-f5f5-e99fd18b81f4"
      },
      "execution_count": 13,
      "outputs": [
        {
          "output_type": "stream",
          "name": "stdout",
          "text": [
            "[('bumila_year_2018_tile_6000_12000.png', 1), ('bumila_year_2018_tile_6000_6000.png', 2), ('bumila_year_2018_tile_5000_7000.png', 3)]\n"
          ]
        }
      ]
    },
    {
      "cell_type": "code",
      "source": [
        "#mount google drive\n",
        "from google.colab import drive\n",
        "drive.mount('/content/drive')\n"
      ],
      "metadata": {
        "colab": {
          "base_uri": "https://localhost:8080/"
        },
        "id": "g5bsf8mqOwOl",
        "outputId": "df8f52c1-16ed-42bf-c352-c37a31196173"
      },
      "execution_count": 14,
      "outputs": [
        {
          "output_type": "stream",
          "name": "stdout",
          "text": [
            "Mounted at /content/drive\n"
          ]
        }
      ]
    },
    {
      "cell_type": "code",
      "source": [
        "import os.path\n",
        "from os import path\n",
        "\n",
        "DRIVE_path = '/content/drive/MyDrive/AI4Trees/'\n",
        "if path.exists(DRIVE_path + 'example_images_with_annotations') == False:\n",
        "  os.mkdir(DRIVE_path + 'example_images_with_annotations')"
      ],
      "metadata": {
        "id": "ZzcsuspJPNfu"
      },
      "execution_count": 15,
      "outputs": []
    },
    {
      "cell_type": "code",
      "source": [
        "import matplotlib.pyplot as plt\n",
        "from matplotlib.patches import Rectangle\n",
        "import cv2\n",
        "import numpy as np\n",
        "\n",
        "num_images_to_plot = 5 # it takes 30 mins to plot all ~1100 images\n",
        "\n",
        "for idx, file_id_tuple in enumerate(images):\n",
        "  if idx == num_images_to_plot:\n",
        "    break\n",
        "  print(file_id_tuple)\n",
        "  img = file_id_tuple[0]\n",
        "  id = file_id_tuple[1]\n",
        "  img_path = \"/content/justdiggit-drone-data/label_sample/\" + img\n",
        "  print(img_path)\n",
        "  img_array = cv2.imread(img_path)\n",
        "  fig = plt.figure(figsize=(12,16))\n",
        "  ax = fig.add_subplot(1,1,1)\n",
        "  ax.imshow(img_array)\n",
        "\n",
        "  for i,annot in enumerate(data['annotations']):\n",
        "    if annot['image_id'] == id:\n",
        "      # put mask on the image\n",
        "      segmentation = data['annotations'][i]['segmentation']\n",
        "      for seg in segmentation:\n",
        "        x_list = np.array(seg[0::2])\n",
        "        y_list = np.array(seg[1::2])\n",
        "        ax.fill(x_list, y_list, alpha=0.5, fc='r', ec='none')\n",
        "      #create the rectangle object and add it to the image\n",
        "      bbox = annot['bbox']\n",
        "      x1, y1, width, height = bbox\n",
        "      rect = Rectangle((x1, y1), width, height, fill=False, color='red')\n",
        "      ax.add_patch(rect)\n",
        "  save_path = DRIVE_path + 'example_images_with_annotations/'\n",
        "  figname = 'fig_{}.png'.format(img.replace('.png', ''))\n",
        "  dest = os.path.join(save_path, figname)\n",
        "  plt.savefig(dest)  # write image to file\n",
        "  plt.cla()\n",
        "  plt.close(fig)"
      ],
      "metadata": {
        "colab": {
          "base_uri": "https://localhost:8080/"
        },
        "id": "nB6YnvmjK-5h",
        "outputId": "1d2aeb2c-2981-4b38-ccc7-0edd67b82fbd"
      },
      "execution_count": 23,
      "outputs": [
        {
          "output_type": "stream",
          "name": "stdout",
          "text": [
            "('bumila_year_2018_tile_6000_12000.png', 1)\n",
            "/content/justdiggit-drone-data/label_sample/bumila_year_2018_tile_6000_12000.png\n",
            "('bumila_year_2018_tile_6000_6000.png', 2)\n",
            "/content/justdiggit-drone-data/label_sample/bumila_year_2018_tile_6000_6000.png\n",
            "('bumila_year_2018_tile_5000_7000.png', 3)\n",
            "/content/justdiggit-drone-data/label_sample/bumila_year_2018_tile_5000_7000.png\n",
            "('bumila_year_2018_tile_5000_6000.png', 4)\n",
            "/content/justdiggit-drone-data/label_sample/bumila_year_2018_tile_5000_6000.png\n",
            "('bumila_year_2018_tile_2000_10000.png', 5)\n",
            "/content/justdiggit-drone-data/label_sample/bumila_year_2018_tile_2000_10000.png\n"
          ]
        }
      ]
    },
    {
      "cell_type": "code",
      "source": [
        ""
      ],
      "metadata": {
        "id": "zYXM8IjDunl9"
      },
      "execution_count": null,
      "outputs": []
    }
  ]
}