{
  "cells": [
    {
      "cell_type": "markdown",
      "metadata": {
        "id": "view-in-github",
        "colab_type": "text"
      },
      "source": [
        "<a href=\"https://colab.research.google.com/github/natiska/ai4trees-height/blob/main/notebooks/Natalia/run_model_training.ipynb\" target=\"_parent\"><img src=\"https://colab.research.google.com/assets/colab-badge.svg\" alt=\"Open In Colab\"/></a>"
      ]
    },
    {
      "cell_type": "code",
      "execution_count": null,
      "metadata": {
        "id": "QrGIAAPpFbhI"
      },
      "outputs": [],
      "source": [
        "from google.colab import auth\n",
        "auth.authenticate_user()"
      ]
    },
    {
      "cell_type": "code",
      "execution_count": null,
      "metadata": {
        "id": "8WpbLTzSMitl"
      },
      "outputs": [],
      "source": [
        "from datetime import datetime\n",
        "import os\n",
        "import shutil\n",
        "import yaml\n",
        "import subprocess"
      ]
    },
    {
      "cell_type": "code",
      "execution_count": null,
      "metadata": {
        "colab": {
          "base_uri": "https://localhost:8080/"
        },
        "id": "WNR3XwXnGn2J",
        "outputId": "fe3aa18d-1093-4c66-b35d-5c511a6b0d82"
      },
      "outputs": [
        {
          "output_type": "stream",
          "name": "stdout",
          "text": [
            "Mounted at /content/drive\n"
          ]
        }
      ],
      "source": [
        "#mount google drive\n",
        "from google.colab import drive\n",
        "drive.mount('/content/drive')"
      ]
    },
    {
      "cell_type": "code",
      "execution_count": null,
      "metadata": {
        "id": "9L6TX0h7I6Az"
      },
      "outputs": [],
      "source": [
        "!rm -r -f ai4trees-height/"
      ]
    },
    {
      "cell_type": "code",
      "execution_count": null,
      "metadata": {
        "colab": {
          "base_uri": "https://localhost:8080/"
        },
        "id": "fW51Nf7KGsuo",
        "outputId": "21f7a0e7-81fb-4a75-8187-147bf92fcb46"
      },
      "outputs": [
        {
          "output_type": "stream",
          "name": "stdout",
          "text": [
            "Cloning into 'ai4trees-height'...\n",
            "remote: Enumerating objects: 279, done.\u001b[K\n",
            "remote: Counting objects: 100% (279/279), done.\u001b[K\n",
            "remote: Compressing objects: 100% (201/201), done.\u001b[K\n",
            "remote: Total 279 (delta 109), reused 198 (delta 52), pack-reused 0\u001b[K\n",
            "Receiving objects: 100% (279/279), 28.25 MiB | 35.89 MiB/s, done.\n",
            "Resolving deltas: 100% (109/109), done.\n"
          ]
        }
      ],
      "source": [
        "!git clone https://github.com/natiska/ai4trees-height.git"
      ]
    },
    {
      "cell_type": "code",
      "execution_count": null,
      "metadata": {
        "colab": {
          "base_uri": "https://localhost:8080/"
        },
        "id": "DC7Zh7GdUq8m",
        "outputId": "3021a8f3-20ab-4990-f7d9-d8e84492ef44"
      },
      "outputs": [
        {
          "output_type": "stream",
          "name": "stdout",
          "text": [
            "/content/ai4trees-height\n"
          ]
        }
      ],
      "source": [
        "%cd ai4trees-height/"
      ]
    },
    {
      "cell_type": "code",
      "execution_count": null,
      "metadata": {
        "id": "d1P-pQEjUMSa",
        "colab": {
          "base_uri": "https://localhost:8080/"
        },
        "outputId": "bc288747-2b3d-4c36-e3eb-00ff085bcabe"
      },
      "outputs": [
        {
          "output_type": "stream",
          "name": "stdout",
          "text": [
            "\u001b[K     |████████████████████████████████| 97 kB 2.6 MB/s \n",
            "\u001b[K     |████████████████████████████████| 1.8 MB 23.3 MB/s \n",
            "\u001b[K     |████████████████████████████████| 58 kB 5.1 MB/s \n",
            "\u001b[K     |████████████████████████████████| 376 kB 54.9 MB/s \n",
            "\u001b[K     |████████████████████████████████| 158 kB 57.3 MB/s \n",
            "\u001b[K     |████████████████████████████████| 181 kB 55.2 MB/s \n",
            "\u001b[K     |████████████████████████████████| 63 kB 1.6 MB/s \n",
            "\u001b[K     |████████████████████████████████| 157 kB 55.6 MB/s \n",
            "\u001b[K     |████████████████████████████████| 157 kB 70.8 MB/s \n",
            "\u001b[K     |████████████████████████████████| 157 kB 65.1 MB/s \n",
            "\u001b[K     |████████████████████████████████| 157 kB 71.9 MB/s \n",
            "\u001b[K     |████████████████████████████████| 157 kB 68.1 MB/s \n",
            "\u001b[K     |████████████████████████████████| 157 kB 66.5 MB/s \n",
            "\u001b[K     |████████████████████████████████| 157 kB 70.1 MB/s \n",
            "\u001b[K     |████████████████████████████████| 156 kB 59.3 MB/s \n",
            "\u001b[?25h  Building wheel for efficientnet-pytorch (setup.py) ... \u001b[?25l\u001b[?25hdone\n",
            "  Building wheel for pretrainedmodels (setup.py) ... \u001b[?25l\u001b[?25hdone\n",
            "  Building wheel for pathtools (setup.py) ... \u001b[?25l\u001b[?25hdone\n"
          ]
        }
      ],
      "source": [
        "!pip install -r requirements.txt -qq"
      ]
    },
    {
      "cell_type": "markdown",
      "metadata": {
        "id": "DRRWHej5TwNE"
      },
      "source": [
        "## Specify paths for inputs and outputs"
      ]
    },
    {
      "cell_type": "code",
      "execution_count": null,
      "metadata": {
        "id": "Gb7_zFDtJmMT"
      },
      "outputs": [],
      "source": [
        "DATA_PATH = \"/content/drive/MyDrive/AI for Trees Share/01. Data/merged_data\""
      ]
    },
    {
      "cell_type": "code",
      "execution_count": null,
      "metadata": {
        "colab": {
          "base_uri": "https://localhost:8080/"
        },
        "id": "mFOkBpAKLJ8i",
        "outputId": "f27558e3-d8c1-494e-aa96-bd6fe89f7ca1"
      },
      "outputs": [
        {
          "output_type": "execute_result",
          "data": {
            "text/plain": [
              "1663478296"
            ]
          },
          "metadata": {},
          "execution_count": 9
        }
      ],
      "source": [
        "run_id = int(datetime.timestamp(datetime.now()))\n",
        "run_id"
      ]
    },
    {
      "cell_type": "code",
      "execution_count": null,
      "metadata": {
        "id": "5KOvoFFgN4-N"
      },
      "outputs": [],
      "source": [
        "run_dir = f\"/content/drive/MyDrive/AI4Trees/run_{run_id}\""
      ]
    },
    {
      "cell_type": "code",
      "execution_count": null,
      "metadata": {
        "id": "aOpEYDfIMu6u"
      },
      "outputs": [],
      "source": [
        "os.makedirs(run_dir)"
      ]
    },
    {
      "cell_type": "markdown",
      "metadata": {
        "id": "Dy2JTCFpTkfM"
      },
      "source": [
        "## Modify config file"
      ]
    },
    {
      "cell_type": "code",
      "execution_count": null,
      "metadata": {
        "colab": {
          "base_uri": "https://localhost:8080/",
          "height": 35
        },
        "id": "89kZjrAPOG2z",
        "outputId": "2714b125-67ae-4a57-fad8-2bc300ffb86d"
      },
      "outputs": [
        {
          "output_type": "execute_result",
          "data": {
            "text/plain": [
              "'/content/drive/MyDrive/AI4Trees/run_1663478296/config.yaml'"
            ],
            "application/vnd.google.colaboratory.intrinsic+json": {
              "type": "string"
            }
          },
          "metadata": {},
          "execution_count": 12
        }
      ],
      "source": [
        "this_run_config = os.path.join(run_dir, \"config.yaml\")\n",
        "shutil.copyfile('models/natalia/unet_scratch/config.yaml', this_run_config)"
      ]
    },
    {
      "cell_type": "code",
      "execution_count": null,
      "metadata": {
        "id": "l60yjpjQLi0k"
      },
      "outputs": [],
      "source": [
        "from yaml import load, dump\n",
        "try:\n",
        "    from yaml import CLoader as Loader, CDumper as Dumper\n",
        "except ImportError:\n",
        "    from yaml import Loader, Dumper"
      ]
    },
    {
      "cell_type": "code",
      "execution_count": null,
      "metadata": {
        "id": "vMrEcUYoW4W5"
      },
      "outputs": [],
      "source": [
        "config = yaml.load(open(this_run_config), Loader)"
      ]
    },
    {
      "cell_type": "code",
      "execution_count": null,
      "metadata": {
        "id": "331zMfUwWlhS"
      },
      "outputs": [],
      "source": [
        "config[\"data_dir\"] = DATA_PATH\n",
        "config[\"input_folders\"] = [\"RGB\"]\n",
        "config[\"input_channels\"] = 3\n",
        "config[\"batch_size\"] = 16\n",
        "config[\"num_epochs\"] = 5\n",
        "config[\"save_output_path\"] = run_dir\n",
        "config[\"log_in_wandb\"] = True\n",
        "config[\"use_pretrained\"] = True"
      ]
    },
    {
      "cell_type": "code",
      "execution_count": null,
      "metadata": {
        "id": "PxJt2OkcNIFJ"
      },
      "outputs": [],
      "source": [
        "with open(this_run_config, 'w') as outfile:\n",
        "    yaml.dump(config, outfile, default_flow_style=False)"
      ]
    },
    {
      "cell_type": "code",
      "execution_count": null,
      "metadata": {
        "colab": {
          "base_uri": "https://localhost:8080/"
        },
        "id": "MchS5E09MNzG",
        "outputId": "670e1d09-1470-4beb-fba2-325d16c12f15"
      },
      "outputs": [
        {
          "output_type": "execute_result",
          "data": {
            "text/plain": [
              "{'batch_size': 16,\n",
              " 'data_dir': '/content/drive/MyDrive/AI for Trees Share/01. Data/merged_data',\n",
              " 'features': [64, 128, 256, 512],\n",
              " 'img_size': [256, 256],\n",
              " 'input_channels': 3,\n",
              " 'input_folders': ['RGB'],\n",
              " 'learning_rate': 0.001,\n",
              " 'log_in_wandb': True,\n",
              " 'num_epochs': 5,\n",
              " 'output_folder': 'masks',\n",
              " 'save_model': True,\n",
              " 'save_output_path': '/content/drive/MyDrive/AI4Trees/run_1663478296',\n",
              " 'save_predictions': False,\n",
              " 'use_pretrained': True,\n",
              " 'weight_decay': 0.0001}"
            ]
          },
          "metadata": {},
          "execution_count": 17
        }
      ],
      "source": [
        "config = yaml.load(open(this_run_config), Loader)\n",
        "config"
      ]
    },
    {
      "cell_type": "markdown",
      "source": [
        "## Log in to Weight and Biases"
      ],
      "metadata": {
        "id": "u9qCXZiFMOdd"
      }
    },
    {
      "cell_type": "code",
      "source": [
        "!wandb login"
      ],
      "metadata": {
        "id": "9OwpqujqMUoU",
        "colab": {
          "base_uri": "https://localhost:8080/"
        },
        "outputId": "beca0dba-e1ea-4a84-fd62-65bba1ab02ea"
      },
      "execution_count": null,
      "outputs": [
        {
          "output_type": "stream",
          "name": "stdout",
          "text": [
            "\u001b[34m\u001b[1mwandb\u001b[0m: Logging into wandb.ai. (Learn how to deploy a W&B server locally: https://wandb.me/wandb-server)\n",
            "\u001b[34m\u001b[1mwandb\u001b[0m: You can find your API key in your browser here: https://wandb.ai/authorize\n",
            "\u001b[34m\u001b[1mwandb\u001b[0m: Paste an API key from your profile and hit enter, or press ctrl+c to quit: \n",
            "\u001b[34m\u001b[1mwandb\u001b[0m: Appending key for api.wandb.ai to your netrc file: /root/.netrc\n"
          ]
        }
      ]
    },
    {
      "cell_type": "markdown",
      "metadata": {
        "id": "52eNOuteTqLV"
      },
      "source": [
        "## Run model training"
      ]
    },
    {
      "cell_type": "code",
      "execution_count": null,
      "metadata": {
        "colab": {
          "base_uri": "https://localhost:8080/",
          "height": 229,
          "referenced_widgets": [
            "ef4961df72b24d8e9e8db4f7e842b883",
            "5bdc39c71b0d4a12ae7c525ea77aec0d",
            "48df1959db7846839168dcb6e7d7f552",
            "5e6f1dd8d46540f388b829ac2f7b2ce0",
            "db467f1a3de045b0813b43975848e3b5",
            "e2e575761cae49d0a746b14a1ebd4272",
            "a6383cdc32b34ac7a5e082fe5a44c993",
            "a2e1f401183d4b5d84b285b2e7bea313",
            "fc890017baf646c19aa9c3dea7821175",
            "88660d1b4d0549d094446decb2acac9b",
            "f467eadeba27423f9b9084b8f40ae8d4"
          ]
        },
        "id": "huSG4Cq7OnF5",
        "outputId": "35e8bbaf-1a42-4de8-9ff9-d83fd8df8f23"
      },
      "outputs": [
        {
          "output_type": "stream",
          "name": "stderr",
          "text": [
            "ERROR:wandb.jupyter:Failed to detect the name of this notebook, you can set it manually with the WANDB_NOTEBOOK_NAME environment variable to enable code saving.\n",
            "\u001b[34m\u001b[1mwandb\u001b[0m: Currently logged in as: \u001b[33mnatiska\u001b[0m (\u001b[33mai4trees\u001b[0m). Use \u001b[1m`wandb login --relogin`\u001b[0m to force relogin\n"
          ]
        },
        {
          "output_type": "display_data",
          "data": {
            "text/plain": [
              "<IPython.core.display.HTML object>"
            ],
            "text/html": [
              "Tracking run with wandb version 0.13.3"
            ]
          },
          "metadata": {}
        },
        {
          "output_type": "display_data",
          "data": {
            "text/plain": [
              "<IPython.core.display.HTML object>"
            ],
            "text/html": [
              "Run data is saved locally in <code>/content/ai4trees-height/wandb/run-20220918_052005-3dn00mjf</code>"
            ]
          },
          "metadata": {}
        },
        {
          "output_type": "display_data",
          "data": {
            "text/plain": [
              "<IPython.core.display.HTML object>"
            ],
            "text/html": [
              "Syncing run <strong><a href=\"https://wandb.ai/ai4trees/ai4trees_project/runs/3dn00mjf\" target=\"_blank\">clean-capybara-27</a></strong> to <a href=\"https://wandb.ai/ai4trees/ai4trees_project\" target=\"_blank\">Weights & Biases</a> (<a href=\"https://wandb.me/run\" target=\"_blank\">docs</a>)<br/>"
            ]
          },
          "metadata": {}
        },
        {
          "output_type": "stream",
          "name": "stdout",
          "text": [
            "Device:  cpu\n"
          ]
        },
        {
          "output_type": "stream",
          "name": "stderr",
          "text": [
            "Downloading: \"https://download.pytorch.org/models/resnet34-333f7ec4.pth\" to /root/.cache/torch/hub/checkpoints/resnet34-333f7ec4.pth\n"
          ]
        },
        {
          "output_type": "display_data",
          "data": {
            "text/plain": [
              "  0%|          | 0.00/83.3M [00:00<?, ?B/s]"
            ],
            "application/vnd.jupyter.widget-view+json": {
              "version_major": 2,
              "version_minor": 0,
              "model_id": "ef4961df72b24d8e9e8db4f7e842b883"
            }
          },
          "metadata": {}
        },
        {
          "output_type": "stream",
          "name": "stdout",
          "text": [
            "EPOCH 1:\n"
          ]
        },
        {
          "output_type": "stream",
          "name": "stderr",
          "text": [
            "  5%|▍         | 10/221 [06:27<2:04:03, 35.28s/it, loss=0.435]"
          ]
        }
      ],
      "source": [
        "%run /content/ai4trees-height/models/natalia/unet_scratch/train.py $this_run_config"
      ]
    },
    {
      "cell_type": "code",
      "source": [],
      "metadata": {
        "id": "KMEhPfpUSUBU"
      },
      "execution_count": null,
      "outputs": []
    }
  ],
  "metadata": {
    "colab": {
      "provenance": [],
      "collapsed_sections": [],
      "authorship_tag": "ABX9TyPmDzdj2mXsSH3Czvwg73nY",
      "include_colab_link": true
    },
    "kernelspec": {
      "display_name": "Python 3",
      "name": "python3"
    },
    "language_info": {
      "name": "python"
    },
    "widgets": {
      "application/vnd.jupyter.widget-state+json": {
        "ef4961df72b24d8e9e8db4f7e842b883": {
          "model_module": "@jupyter-widgets/controls",
          "model_name": "HBoxModel",
          "model_module_version": "1.5.0",
          "state": {
            "_dom_classes": [],
            "_model_module": "@jupyter-widgets/controls",
            "_model_module_version": "1.5.0",
            "_model_name": "HBoxModel",
            "_view_count": null,
            "_view_module": "@jupyter-widgets/controls",
            "_view_module_version": "1.5.0",
            "_view_name": "HBoxView",
            "box_style": "",
            "children": [
              "IPY_MODEL_5bdc39c71b0d4a12ae7c525ea77aec0d",
              "IPY_MODEL_48df1959db7846839168dcb6e7d7f552",
              "IPY_MODEL_5e6f1dd8d46540f388b829ac2f7b2ce0"
            ],
            "layout": "IPY_MODEL_db467f1a3de045b0813b43975848e3b5"
          }
        },
        "5bdc39c71b0d4a12ae7c525ea77aec0d": {
          "model_module": "@jupyter-widgets/controls",
          "model_name": "HTMLModel",
          "model_module_version": "1.5.0",
          "state": {
            "_dom_classes": [],
            "_model_module": "@jupyter-widgets/controls",
            "_model_module_version": "1.5.0",
            "_model_name": "HTMLModel",
            "_view_count": null,
            "_view_module": "@jupyter-widgets/controls",
            "_view_module_version": "1.5.0",
            "_view_name": "HTMLView",
            "description": "",
            "description_tooltip": null,
            "layout": "IPY_MODEL_e2e575761cae49d0a746b14a1ebd4272",
            "placeholder": "​",
            "style": "IPY_MODEL_a6383cdc32b34ac7a5e082fe5a44c993",
            "value": "100%"
          }
        },
        "48df1959db7846839168dcb6e7d7f552": {
          "model_module": "@jupyter-widgets/controls",
          "model_name": "FloatProgressModel",
          "model_module_version": "1.5.0",
          "state": {
            "_dom_classes": [],
            "_model_module": "@jupyter-widgets/controls",
            "_model_module_version": "1.5.0",
            "_model_name": "FloatProgressModel",
            "_view_count": null,
            "_view_module": "@jupyter-widgets/controls",
            "_view_module_version": "1.5.0",
            "_view_name": "ProgressView",
            "bar_style": "success",
            "description": "",
            "description_tooltip": null,
            "layout": "IPY_MODEL_a2e1f401183d4b5d84b285b2e7bea313",
            "max": 87306240,
            "min": 0,
            "orientation": "horizontal",
            "style": "IPY_MODEL_fc890017baf646c19aa9c3dea7821175",
            "value": 87306240
          }
        },
        "5e6f1dd8d46540f388b829ac2f7b2ce0": {
          "model_module": "@jupyter-widgets/controls",
          "model_name": "HTMLModel",
          "model_module_version": "1.5.0",
          "state": {
            "_dom_classes": [],
            "_model_module": "@jupyter-widgets/controls",
            "_model_module_version": "1.5.0",
            "_model_name": "HTMLModel",
            "_view_count": null,
            "_view_module": "@jupyter-widgets/controls",
            "_view_module_version": "1.5.0",
            "_view_name": "HTMLView",
            "description": "",
            "description_tooltip": null,
            "layout": "IPY_MODEL_88660d1b4d0549d094446decb2acac9b",
            "placeholder": "​",
            "style": "IPY_MODEL_f467eadeba27423f9b9084b8f40ae8d4",
            "value": " 83.3M/83.3M [00:01&lt;00:00, 76.4MB/s]"
          }
        },
        "db467f1a3de045b0813b43975848e3b5": {
          "model_module": "@jupyter-widgets/base",
          "model_name": "LayoutModel",
          "model_module_version": "1.2.0",
          "state": {
            "_model_module": "@jupyter-widgets/base",
            "_model_module_version": "1.2.0",
            "_model_name": "LayoutModel",
            "_view_count": null,
            "_view_module": "@jupyter-widgets/base",
            "_view_module_version": "1.2.0",
            "_view_name": "LayoutView",
            "align_content": null,
            "align_items": null,
            "align_self": null,
            "border": null,
            "bottom": null,
            "display": null,
            "flex": null,
            "flex_flow": null,
            "grid_area": null,
            "grid_auto_columns": null,
            "grid_auto_flow": null,
            "grid_auto_rows": null,
            "grid_column": null,
            "grid_gap": null,
            "grid_row": null,
            "grid_template_areas": null,
            "grid_template_columns": null,
            "grid_template_rows": null,
            "height": null,
            "justify_content": null,
            "justify_items": null,
            "left": null,
            "margin": null,
            "max_height": null,
            "max_width": null,
            "min_height": null,
            "min_width": null,
            "object_fit": null,
            "object_position": null,
            "order": null,
            "overflow": null,
            "overflow_x": null,
            "overflow_y": null,
            "padding": null,
            "right": null,
            "top": null,
            "visibility": null,
            "width": null
          }
        },
        "e2e575761cae49d0a746b14a1ebd4272": {
          "model_module": "@jupyter-widgets/base",
          "model_name": "LayoutModel",
          "model_module_version": "1.2.0",
          "state": {
            "_model_module": "@jupyter-widgets/base",
            "_model_module_version": "1.2.0",
            "_model_name": "LayoutModel",
            "_view_count": null,
            "_view_module": "@jupyter-widgets/base",
            "_view_module_version": "1.2.0",
            "_view_name": "LayoutView",
            "align_content": null,
            "align_items": null,
            "align_self": null,
            "border": null,
            "bottom": null,
            "display": null,
            "flex": null,
            "flex_flow": null,
            "grid_area": null,
            "grid_auto_columns": null,
            "grid_auto_flow": null,
            "grid_auto_rows": null,
            "grid_column": null,
            "grid_gap": null,
            "grid_row": null,
            "grid_template_areas": null,
            "grid_template_columns": null,
            "grid_template_rows": null,
            "height": null,
            "justify_content": null,
            "justify_items": null,
            "left": null,
            "margin": null,
            "max_height": null,
            "max_width": null,
            "min_height": null,
            "min_width": null,
            "object_fit": null,
            "object_position": null,
            "order": null,
            "overflow": null,
            "overflow_x": null,
            "overflow_y": null,
            "padding": null,
            "right": null,
            "top": null,
            "visibility": null,
            "width": null
          }
        },
        "a6383cdc32b34ac7a5e082fe5a44c993": {
          "model_module": "@jupyter-widgets/controls",
          "model_name": "DescriptionStyleModel",
          "model_module_version": "1.5.0",
          "state": {
            "_model_module": "@jupyter-widgets/controls",
            "_model_module_version": "1.5.0",
            "_model_name": "DescriptionStyleModel",
            "_view_count": null,
            "_view_module": "@jupyter-widgets/base",
            "_view_module_version": "1.2.0",
            "_view_name": "StyleView",
            "description_width": ""
          }
        },
        "a2e1f401183d4b5d84b285b2e7bea313": {
          "model_module": "@jupyter-widgets/base",
          "model_name": "LayoutModel",
          "model_module_version": "1.2.0",
          "state": {
            "_model_module": "@jupyter-widgets/base",
            "_model_module_version": "1.2.0",
            "_model_name": "LayoutModel",
            "_view_count": null,
            "_view_module": "@jupyter-widgets/base",
            "_view_module_version": "1.2.0",
            "_view_name": "LayoutView",
            "align_content": null,
            "align_items": null,
            "align_self": null,
            "border": null,
            "bottom": null,
            "display": null,
            "flex": null,
            "flex_flow": null,
            "grid_area": null,
            "grid_auto_columns": null,
            "grid_auto_flow": null,
            "grid_auto_rows": null,
            "grid_column": null,
            "grid_gap": null,
            "grid_row": null,
            "grid_template_areas": null,
            "grid_template_columns": null,
            "grid_template_rows": null,
            "height": null,
            "justify_content": null,
            "justify_items": null,
            "left": null,
            "margin": null,
            "max_height": null,
            "max_width": null,
            "min_height": null,
            "min_width": null,
            "object_fit": null,
            "object_position": null,
            "order": null,
            "overflow": null,
            "overflow_x": null,
            "overflow_y": null,
            "padding": null,
            "right": null,
            "top": null,
            "visibility": null,
            "width": null
          }
        },
        "fc890017baf646c19aa9c3dea7821175": {
          "model_module": "@jupyter-widgets/controls",
          "model_name": "ProgressStyleModel",
          "model_module_version": "1.5.0",
          "state": {
            "_model_module": "@jupyter-widgets/controls",
            "_model_module_version": "1.5.0",
            "_model_name": "ProgressStyleModel",
            "_view_count": null,
            "_view_module": "@jupyter-widgets/base",
            "_view_module_version": "1.2.0",
            "_view_name": "StyleView",
            "bar_color": null,
            "description_width": ""
          }
        },
        "88660d1b4d0549d094446decb2acac9b": {
          "model_module": "@jupyter-widgets/base",
          "model_name": "LayoutModel",
          "model_module_version": "1.2.0",
          "state": {
            "_model_module": "@jupyter-widgets/base",
            "_model_module_version": "1.2.0",
            "_model_name": "LayoutModel",
            "_view_count": null,
            "_view_module": "@jupyter-widgets/base",
            "_view_module_version": "1.2.0",
            "_view_name": "LayoutView",
            "align_content": null,
            "align_items": null,
            "align_self": null,
            "border": null,
            "bottom": null,
            "display": null,
            "flex": null,
            "flex_flow": null,
            "grid_area": null,
            "grid_auto_columns": null,
            "grid_auto_flow": null,
            "grid_auto_rows": null,
            "grid_column": null,
            "grid_gap": null,
            "grid_row": null,
            "grid_template_areas": null,
            "grid_template_columns": null,
            "grid_template_rows": null,
            "height": null,
            "justify_content": null,
            "justify_items": null,
            "left": null,
            "margin": null,
            "max_height": null,
            "max_width": null,
            "min_height": null,
            "min_width": null,
            "object_fit": null,
            "object_position": null,
            "order": null,
            "overflow": null,
            "overflow_x": null,
            "overflow_y": null,
            "padding": null,
            "right": null,
            "top": null,
            "visibility": null,
            "width": null
          }
        },
        "f467eadeba27423f9b9084b8f40ae8d4": {
          "model_module": "@jupyter-widgets/controls",
          "model_name": "DescriptionStyleModel",
          "model_module_version": "1.5.0",
          "state": {
            "_model_module": "@jupyter-widgets/controls",
            "_model_module_version": "1.5.0",
            "_model_name": "DescriptionStyleModel",
            "_view_count": null,
            "_view_module": "@jupyter-widgets/base",
            "_view_module_version": "1.2.0",
            "_view_name": "StyleView",
            "description_width": ""
          }
        }
      }
    }
  },
  "nbformat": 4,
  "nbformat_minor": 0
}