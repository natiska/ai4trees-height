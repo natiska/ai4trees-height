{
  "cells": [
    {
      "cell_type": "markdown",
      "metadata": {
        "id": "view-in-github",
        "colab_type": "text"
      },
      "source": [
        "<a href=\"https://colab.research.google.com/github/natiska/ai4trees-height/blob/main/notebooks/Natalia/run_model_training.ipynb\" target=\"_parent\"><img src=\"https://colab.research.google.com/assets/colab-badge.svg\" alt=\"Open In Colab\"/></a>"
      ]
    },
    {
      "cell_type": "code",
      "execution_count": null,
      "metadata": {
        "id": "QrGIAAPpFbhI"
      },
      "outputs": [],
      "source": [
        "from google.colab import auth\n",
        "auth.authenticate_user()"
      ]
    },
    {
      "cell_type": "code",
      "execution_count": null,
      "metadata": {
        "id": "8WpbLTzSMitl"
      },
      "outputs": [],
      "source": [
        "from datetime import datetime\n",
        "import os\n",
        "import shutil\n",
        "import yaml\n",
        "import subprocess"
      ]
    },
    {
      "cell_type": "code",
      "execution_count": null,
      "metadata": {
        "colab": {
          "base_uri": "https://localhost:8080/"
        },
        "id": "WNR3XwXnGn2J",
        "outputId": "180d8d1b-8508-4056-882c-2e377363e60d"
      },
      "outputs": [
        {
          "name": "stdout",
          "output_type": "stream",
          "text": [
            "Mounted at /content/drive\n"
          ]
        }
      ],
      "source": [
        "#mount google drive\n",
        "from google.colab import drive\n",
        "drive.mount('/content/drive')"
      ]
    },
    {
      "cell_type": "code",
      "execution_count": null,
      "metadata": {
        "id": "9L6TX0h7I6Az"
      },
      "outputs": [],
      "source": [
        "!rm -r -f ai4trees-height/"
      ]
    },
    {
      "cell_type": "code",
      "execution_count": null,
      "metadata": {
        "colab": {
          "base_uri": "https://localhost:8080/"
        },
        "id": "fW51Nf7KGsuo",
        "outputId": "4a0e4db5-59fb-4638-eb6d-7c941144c426"
      },
      "outputs": [
        {
          "name": "stdout",
          "output_type": "stream",
          "text": [
            "Cloning into 'ai4trees-height'...\n",
            "remote: Enumerating objects: 140, done.\u001b[K\n",
            "remote: Counting objects: 100% (140/140), done.\u001b[K\n",
            "remote: Compressing objects: 100% (115/115), done.\u001b[K\n",
            "remote: Total 140 (delta 40), reused 99 (delta 16), pack-reused 0\u001b[K\n",
            "Receiving objects: 100% (140/140), 27.74 MiB | 30.74 MiB/s, done.\n",
            "Resolving deltas: 100% (40/40), done.\n"
          ]
        }
      ],
      "source": [
        "!git clone https://github.com/natiska/ai4trees-height.git"
      ]
    },
    {
      "cell_type": "code",
      "execution_count": null,
      "metadata": {
        "colab": {
          "base_uri": "https://localhost:8080/"
        },
        "id": "DC7Zh7GdUq8m",
        "outputId": "422ecffe-d460-4f0e-b7b2-f95bf350df02"
      },
      "outputs": [
        {
          "name": "stdout",
          "output_type": "stream",
          "text": [
            "/content/ai4trees-height\n"
          ]
        }
      ],
      "source": [
        "%cd ai4trees-height/"
      ]
    },
    {
      "cell_type": "code",
      "execution_count": null,
      "metadata": {
        "id": "d1P-pQEjUMSa"
      },
      "outputs": [],
      "source": [
        "!pip install -r requirements.txt -qq"
      ]
    },
    {
      "cell_type": "markdown",
      "metadata": {
        "id": "DRRWHej5TwNE"
      },
      "source": [
        "## Specify paths for inputs and outputs"
      ]
    },
    {
      "cell_type": "code",
      "execution_count": null,
      "metadata": {
        "id": "Gb7_zFDtJmMT"
      },
      "outputs": [],
      "source": [
        "DATA_PATH = \"/content/drive/MyDrive/AI for Trees Share/01. Data/justdiggit-drone-data\"\n",
        "height_tiles_path = f\"{DATA_PATH}/DSM/tiles_250_png/chaludewa/2019\"\n",
        "rgb_tiles_path = f\"{DATA_PATH}/RGB/tiles_1000_tif/chaludewa/2019\"\n",
        "masks_path = f\"{DATA_PATH}/masks/chaludewa/2019\""
      ]
    },
    {
      "cell_type": "code",
      "execution_count": null,
      "metadata": {
        "colab": {
          "base_uri": "https://localhost:8080/"
        },
        "id": "mFOkBpAKLJ8i",
        "outputId": "690487a1-ad09-4cbd-df77-934c2309a9bf"
      },
      "outputs": [
        {
          "data": {
            "text/plain": [
              "1662841628"
            ]
          },
          "execution_count": 6,
          "metadata": {},
          "output_type": "execute_result"
        }
      ],
      "source": [
        "run_id = int(datetime.timestamp(datetime.now()))\n",
        "run_id"
      ]
    },
    {
      "cell_type": "code",
      "execution_count": null,
      "metadata": {
        "id": "5KOvoFFgN4-N"
      },
      "outputs": [],
      "source": [
        "run_dir = f\"/content/drive/MyDrive/AI4Trees/run_{run_id}\""
      ]
    },
    {
      "cell_type": "code",
      "execution_count": null,
      "metadata": {
        "id": "aOpEYDfIMu6u"
      },
      "outputs": [],
      "source": [
        "os.makedirs(run_dir)"
      ]
    },
    {
      "cell_type": "markdown",
      "metadata": {
        "id": "Dy2JTCFpTkfM"
      },
      "source": [
        "## Modify config file"
      ]
    },
    {
      "cell_type": "code",
      "execution_count": null,
      "metadata": {
        "colab": {
          "base_uri": "https://localhost:8080/",
          "height": 35
        },
        "id": "89kZjrAPOG2z",
        "outputId": "aea5898f-7968-4c32-8161-ca6c0f6bc68d"
      },
      "outputs": [
        {
          "data": {
            "application/vnd.google.colaboratory.intrinsic+json": {
              "type": "string"
            },
            "text/plain": [
              "'/content/drive/MyDrive/AI4Trees/run_1662841628/config.yaml'"
            ]
          },
          "execution_count": 13,
          "metadata": {},
          "output_type": "execute_result"
        }
      ],
      "source": [
        "this_run_config = os.path.join(run_dir, \"config.yaml\")\n",
        "shutil.copyfile('ai4trees-height/models/natalia/unet_scratch/config.yaml', this_run_config)"
      ]
    },
    {
      "cell_type": "code",
      "execution_count": null,
      "metadata": {
        "id": "l60yjpjQLi0k"
      },
      "outputs": [],
      "source": [
        "from yaml import load, dump\n",
        "try:\n",
        "    from yaml import CLoader as Loader, CDumper as Dumper\n",
        "except ImportError:\n",
        "    from yaml import Loader, Dumper"
      ]
    },
    {
      "cell_type": "code",
      "execution_count": null,
      "metadata": {
        "id": "vMrEcUYoW4W5"
      },
      "outputs": [],
      "source": [
        "config = yaml.load(open(this_run_config), Loader)"
      ]
    },
    {
      "cell_type": "code",
      "execution_count": null,
      "metadata": {
        "id": "331zMfUwWlhS"
      },
      "outputs": [],
      "source": [
        "config[\"img_dir\"] = height_tiles_path\n",
        "config[\"mask_dir\"] = masks_path\n",
        "config[\"save_output_path\"] = run_dir"
      ]
    },
    {
      "cell_type": "code",
      "execution_count": null,
      "metadata": {
        "id": "PxJt2OkcNIFJ"
      },
      "outputs": [],
      "source": [
        "with open(this_run_config, 'w') as outfile:\n",
        "    yaml.dump(config, outfile, default_flow_style=False)"
      ]
    },
    {
      "cell_type": "code",
      "execution_count": null,
      "metadata": {
        "colab": {
          "base_uri": "https://localhost:8080/"
        },
        "id": "MchS5E09MNzG",
        "outputId": "e97e3abf-57f4-4c7e-f5b9-961e72e9f52f"
      },
      "outputs": [
        {
          "data": {
            "text/plain": [
              "{'batch_size': 1,\n",
              " 'img_dir': '/content/drive/MyDrive/AI for Trees Share/01. Data/justdiggit-drone-data/DSM/tiles_250_png/chaludewa/2019',\n",
              " 'img_size': [256, 256],\n",
              " 'learning_rate': 0.001,\n",
              " 'mask_dir': '/content/drive/MyDrive/AI for Trees Share/01. Data/justdiggit-drone-data/masks/chaludewa/2019',\n",
              " 'max_pixel_value': 255.0,\n",
              " 'mean': [0.485],\n",
              " 'num_epochs': 5,\n",
              " 'save_output_path': '/content/drive/MyDrive/AI4Trees/run_1662841628',\n",
              " 'std': [0.229],\n",
              " 'weight_decay': 0.0001}"
            ]
          },
          "execution_count": 66,
          "metadata": {},
          "output_type": "execute_result"
        }
      ],
      "source": [
        "config = yaml.load(open(this_run_config), Loader)\n",
        "config"
      ]
    },
    {
      "cell_type": "markdown",
      "metadata": {
        "id": "52eNOuteTqLV"
      },
      "source": [
        "## Run model training"
      ]
    },
    {
      "cell_type": "code",
      "execution_count": null,
      "metadata": {
        "colab": {
          "background_save": true,
          "base_uri": "https://localhost:8080/"
        },
        "id": "huSG4Cq7OnF5",
        "outputId": "0dae0111-f687-4d87-a469-169b19c37560"
      },
      "outputs": [
        {
          "name": "stdout",
          "output_type": "stream",
          "text": [
            "EPOCH 1:\n"
          ]
        },
        {
          "name": "stderr",
          "output_type": "stream",
          "text": [
            "100%|██████████| 42/42 [04:36<00:00,  6.58s/it, loss=0.347]\n"
          ]
        },
        {
          "name": "stdout",
          "output_type": "stream",
          "text": [
            "0.4427240455434436\n",
            "EPOCH 2:\n"
          ]
        },
        {
          "name": "stderr",
          "output_type": "stream",
          "text": [
            "100%|██████████| 42/42 [04:24<00:00,  6.30s/it, loss=0.27]\n"
          ]
        },
        {
          "name": "stdout",
          "output_type": "stream",
          "text": [
            "0.30471266415857134\n",
            "EPOCH 3:\n"
          ]
        },
        {
          "name": "stderr",
          "output_type": "stream",
          "text": [
            "100%|██████████| 42/42 [04:25<00:00,  6.31s/it, loss=0.255]\n"
          ]
        },
        {
          "name": "stdout",
          "output_type": "stream",
          "text": [
            "0.28068687199127107\n",
            "EPOCH 4:\n"
          ]
        },
        {
          "name": "stderr",
          "output_type": "stream",
          "text": [
            "100%|██████████| 42/42 [04:25<00:00,  6.31s/it, loss=0.317]\n"
          ]
        },
        {
          "name": "stdout",
          "output_type": "stream",
          "text": [
            "0.2768974392896607\n",
            "EPOCH 5:\n"
          ]
        },
        {
          "name": "stderr",
          "output_type": "stream",
          "text": [
            "100%|██████████| 42/42 [04:23<00:00,  6.28s/it, loss=0.153]\n"
          ]
        },
        {
          "name": "stdout",
          "output_type": "stream",
          "text": [
            "0.2730218970349857\n"
          ]
        },
        {
          "name": "stderr",
          "output_type": "stream",
          "text": [
            "100%|██████████| 42/42 [01:31<00:00,  2.18s/it]\n"
          ]
        },
        {
          "name": "stdout",
          "output_type": "stream",
          "text": [
            "Test dice score:  0.41068994998931885\n",
            "Test loss:  1.1212592067285663\n",
            "Script finished\n"
          ]
        }
      ],
      "source": [
        "%run /content/ai4trees-height/models/natalia/unet_scratch/train.py $this_run_config"
      ]
    },
    {
      "cell_type": "code",
      "execution_count": null,
      "metadata": {
        "id": "xNiaqIx0TSCI"
      },
      "outputs": [],
      "source": []
    }
  ],
  "metadata": {
    "colab": {
      "provenance": [],
      "collapsed_sections": [],
      "authorship_tag": "ABX9TyNTiQcl+jEp7p3hCDpBFylG",
      "include_colab_link": true
    },
    "kernelspec": {
      "display_name": "Python 3",
      "name": "python3"
    },
    "language_info": {
      "name": "python"
    }
  },
  "nbformat": 4,
  "nbformat_minor": 0
}